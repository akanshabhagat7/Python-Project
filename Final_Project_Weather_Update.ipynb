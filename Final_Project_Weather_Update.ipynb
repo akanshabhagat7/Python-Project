{
 "cells": [
  {
   "cell_type": "markdown",
   "id": "09dcb1d4",
   "metadata": {},
   "source": [
    "# Final Project : GUI weather update using tkinter and python\n",
    "\n",
    "## Name - Akansha Bhagat"
   ]
  },
  {
   "cell_type": "code",
   "execution_count": 7,
   "id": "555e6911",
   "metadata": {},
   "outputs": [],
   "source": [
    "import requests\n",
    "from tkinter import *\n",
    "from PIL import Image, ImageTk\n",
    "import datetime as dt"
   ]
  },
  {
   "cell_type": "code",
   "execution_count": 8,
   "id": "97670cb1",
   "metadata": {},
   "outputs": [],
   "source": [
    "def weather():\n",
    "    city = city_listbox.get()\n",
    "    url = \"https://api.openweathermap.org/data/2.5/weather?q={}&appid=83831e36a113e46a28adca59c21ceabc\".format(city)\n",
    "    #https://api.openweathermap.org/data/2.5/weather?q=London,uk&appid=83831e36a113e46a28adca59c21ceabc\n",
    "    res = requests.get(url)\n",
    "    output = res.json()\n",
    "    \n",
    "    weather_status = output['weather'][0]['description']\n",
    "    temprature = output['main']['temp']\n",
    "    pressure = output['main']['pressure']\n",
    "    humidity = output['main']['humidity']\n",
    "    wind_speed = output['wind']['speed']\n",
    "    visibility = output['visibility']\n",
    "    \n",
    "    weather_status_label.configure(text=\"Weather Status : \"+ weather_status)\n",
    "    temprature_label.configure(text=\"Temprature : \"+ str(temprature)+\" °C\")\n",
    "    pressure_label.configure(text=\"Pressure : \"+ str(pressure))\n",
    "    humidity_label.configure(text=\"Humidity : \"+ str(humidity)+\" %\")\n",
    "    wind_speed_label.configure(text=\"Wind Speed : \"+ str(wind_speed))\n",
    "    visibility_label.configure(text=\"Visibility : \"+ str(visibility)+\" Km\")"
   ]
  },
  {
   "cell_type": "code",
   "execution_count": 9,
   "id": "0675f35c",
   "metadata": {},
   "outputs": [],
   "source": [
    "window = Tk()\n",
    "window.title(\"Weather Update\")\n",
    "window.geometry(\"600x450\")\n",
    "#window.configure(bg='lightpink')\n",
    "\n",
    "date = dt.datetime.now()\n",
    "label = Label(window, text=f\"{date:%B %d, %Y}\", font=\"Calibri, 10\")\n",
    "label.grid(pady=20)\n",
    "\n",
    "#bg = PhotoImage(file = \"image7.png\")\n",
    "#label1 = Label(window, image = bg)\n",
    "#label1.place(x=0, y=0)\n",
    "\n",
    "\n",
    "city_name_list = [\"Lucknow\",\"Delhi\",\"Bangalore\",\"Pune\",\"Mumbai\",\"Hyderabad\",\"Chennai\",\"Nagpur\",\"Maharashtra\",\"Bengaluru\",\"Kolkata\",\"Surat\",\"Jaipur\",\"Surat\",\"Agra\",\"Nashik\",\"Indore\"]\n",
    "\n",
    "city_listbox = StringVar(window)\n",
    "city_listbox.set(\"Select the City\")\n",
    "option = OptionMenu(window,city_listbox,*city_name_list)\n",
    "option.grid(row=2,column=2,padx=150,pady=10)\n",
    "\n",
    "b1 = Button(window,text=\"Check Weather\",width=15,command=weather)\n",
    "b1.grid(row=5,column=2,padx=150)\n",
    "\n",
    "weather_status_label = Label(window,font=(\"times\",15,\"bold\"))\n",
    "weather_status_label.grid(row=10,column=2)\n",
    "\n",
    "temprature_label = Label(window,font=(\"times\",15,\"bold\"))\n",
    "temprature_label.grid(row=12,column=2)\n",
    "\n",
    "pressure_label = Label(window,font=(\"times\",15,\"bold\"))\n",
    "pressure_label.grid(row=14,column=2)\n",
    "\n",
    "humidity_label = Label(window,font=(\"times\",15,\"bold\"))\n",
    "humidity_label.grid(row=16,column=2)\n",
    "\n",
    "wind_speed_label = Label(window,font=(\"times\",15,\"bold\"))\n",
    "wind_speed_label.grid(row=18,column=2)\n",
    "\n",
    "visibility_label = Label(window,font=(\"times\",15,\"bold\"))\n",
    "visibility_label.grid(row=20,column=2)\n",
    "\n",
    "window.mainloop()"
   ]
  },
  {
   "cell_type": "code",
   "execution_count": null,
   "id": "dab43018",
   "metadata": {},
   "outputs": [],
   "source": [
    "\"\"\"\n",
    "\n",
    "How to use the project - \n",
    "click on \"Select the City\" button \n",
    "select the city of your choice from drop dowm list\n",
    "click on \"Check weather\"\n",
    "The output about the weather update of the city will be displayed.\n",
    "\n",
    "\"\"\""
   ]
  }
 ],
 "metadata": {
  "kernelspec": {
   "display_name": "Python 3 (ipykernel)",
   "language": "python",
   "name": "python3"
  },
  "language_info": {
   "codemirror_mode": {
    "name": "ipython",
    "version": 3
   },
   "file_extension": ".py",
   "mimetype": "text/x-python",
   "name": "python",
   "nbconvert_exporter": "python",
   "pygments_lexer": "ipython3",
   "version": "3.9.12"
  }
 },
 "nbformat": 4,
 "nbformat_minor": 5
}
